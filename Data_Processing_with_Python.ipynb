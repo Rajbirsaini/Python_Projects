{
  "cells": [
    {
      "cell_type": "markdown",
      "id": "0f4d751b",
      "metadata": {
        "id": "0f4d751b"
      },
      "source": [
        " # Step 1: Importing Libraries"
      ]
    },
    {
      "cell_type": "code",
      "execution_count": null,
      "id": "92d0fe4c",
      "metadata": {
        "id": "92d0fe4c"
      },
      "outputs": [],
      "source": [
        "import pandas as pd\n",
        "import numpy as np\n",
        "import seaborn as sns\n",
        "import matplotlib.pyplot as plt"
      ]
    },
    {
      "cell_type": "markdown",
      "id": "729387a8",
      "metadata": {
        "id": "729387a8"
      },
      "source": [
        "### Loading the Dataset"
      ]
    },
    {
      "cell_type": "code",
      "execution_count": null,
      "id": "76c750a9",
      "metadata": {
        "id": "76c750a9",
        "outputId": "8329e6a4-6e63-4607-cc1e-4fcf89fd4ce7"
      },
      "outputs": [
        {
          "data": {
            "text/html": [
              "<div>\n",
              "<style scoped>\n",
              "    .dataframe tbody tr th:only-of-type {\n",
              "        vertical-align: middle;\n",
              "    }\n",
              "\n",
              "    .dataframe tbody tr th {\n",
              "        vertical-align: top;\n",
              "    }\n",
              "\n",
              "    .dataframe thead th {\n",
              "        text-align: right;\n",
              "    }\n",
              "</style>\n",
              "<table border=\"1\" class=\"dataframe\">\n",
              "  <thead>\n",
              "    <tr style=\"text-align: right;\">\n",
              "      <th></th>\n",
              "      <th>Feature1</th>\n",
              "      <th>Feature2</th>\n",
              "      <th>Feature3</th>\n",
              "      <th>Feature4</th>\n",
              "    </tr>\n",
              "  </thead>\n",
              "  <tbody>\n",
              "    <tr>\n",
              "      <th>0</th>\n",
              "      <td>-1.310168</td>\n",
              "      <td>4.083988</td>\n",
              "      <td>8.821271</td>\n",
              "      <td>13.806908</td>\n",
              "    </tr>\n",
              "    <tr>\n",
              "      <th>1</th>\n",
              "      <td>-0.835933</td>\n",
              "      <td>8.889155</td>\n",
              "      <td>3.930402</td>\n",
              "      <td>5.829701</td>\n",
              "    </tr>\n",
              "    <tr>\n",
              "      <th>2</th>\n",
              "      <td>0.001279</td>\n",
              "      <td>9.217252</td>\n",
              "      <td>7.010031</td>\n",
              "      <td>5.185092</td>\n",
              "    </tr>\n",
              "    <tr>\n",
              "      <th>3</th>\n",
              "      <td>1.413789</td>\n",
              "      <td>4.427689</td>\n",
              "      <td>4.881688</td>\n",
              "      <td>13.408670</td>\n",
              "    </tr>\n",
              "    <tr>\n",
              "      <th>4</th>\n",
              "      <td>-0.953064</td>\n",
              "      <td>2.487238</td>\n",
              "      <td>4.596612</td>\n",
              "      <td>13.835109</td>\n",
              "    </tr>\n",
              "    <tr>\n",
              "      <th>...</th>\n",
              "      <td>...</td>\n",
              "      <td>...</td>\n",
              "      <td>...</td>\n",
              "      <td>...</td>\n",
              "    </tr>\n",
              "    <tr>\n",
              "      <th>995</th>\n",
              "      <td>0.053178</td>\n",
              "      <td>29.136442</td>\n",
              "      <td>-26.508748</td>\n",
              "      <td>26.068357</td>\n",
              "    </tr>\n",
              "    <tr>\n",
              "      <th>996</th>\n",
              "      <td>0.494968</td>\n",
              "      <td>23.848995</td>\n",
              "      <td>-25.890983</td>\n",
              "      <td>31.537393</td>\n",
              "    </tr>\n",
              "    <tr>\n",
              "      <th>997</th>\n",
              "      <td>-0.297539</td>\n",
              "      <td>22.046825</td>\n",
              "      <td>-23.905019</td>\n",
              "      <td>30.627014</td>\n",
              "    </tr>\n",
              "    <tr>\n",
              "      <th>998</th>\n",
              "      <td>1.677481</td>\n",
              "      <td>19.055648</td>\n",
              "      <td>-22.097171</td>\n",
              "      <td>24.681719</td>\n",
              "    </tr>\n",
              "    <tr>\n",
              "      <th>999</th>\n",
              "      <td>0.509740</td>\n",
              "      <td>25.125946</td>\n",
              "      <td>-24.141919</td>\n",
              "      <td>30.058284</td>\n",
              "    </tr>\n",
              "  </tbody>\n",
              "</table>\n",
              "<p>1000 rows × 4 columns</p>\n",
              "</div>"
            ],
            "text/plain": [
              "     Feature1   Feature2   Feature3   Feature4\n",
              "0   -1.310168   4.083988   8.821271  13.806908\n",
              "1   -0.835933   8.889155   3.930402   5.829701\n",
              "2    0.001279   9.217252   7.010031   5.185092\n",
              "3    1.413789   4.427689   4.881688  13.408670\n",
              "4   -0.953064   2.487238   4.596612  13.835109\n",
              "..        ...        ...        ...        ...\n",
              "995  0.053178  29.136442 -26.508748  26.068357\n",
              "996  0.494968  23.848995 -25.890983  31.537393\n",
              "997 -0.297539  22.046825 -23.905019  30.627014\n",
              "998  1.677481  19.055648 -22.097171  24.681719\n",
              "999  0.509740  25.125946 -24.141919  30.058284\n",
              "\n",
              "[1000 rows x 4 columns]"
            ]
          },
          "execution_count": 2,
          "metadata": {},
          "output_type": "execute_result"
        }
      ],
      "source": [
        "data = pd.read_csv(\"C:\\\\Users\\\\Admin\\\\Documents\\\\Business Analytics RB\\\\finalproject_dataset_group4.csv\")\n",
        "data"
      ]
    },
    {
      "cell_type": "markdown",
      "id": "c9484016",
      "metadata": {
        "id": "c9484016"
      },
      "source": [
        "# Step 2: Data Visualization and Cleaning"
      ]
    },
    {
      "cell_type": "markdown",
      "id": "7bf5dccd",
      "metadata": {
        "id": "7bf5dccd"
      },
      "source": [
        "### Analyzing Dataset"
      ]
    },
    {
      "cell_type": "code",
      "execution_count": null,
      "id": "500731bd",
      "metadata": {
        "id": "500731bd",
        "outputId": "c7d973c9-43a5-4615-f5bf-adbede232d37"
      },
      "outputs": [
        {
          "data": {
            "text/html": [
              "<div>\n",
              "<style scoped>\n",
              "    .dataframe tbody tr th:only-of-type {\n",
              "        vertical-align: middle;\n",
              "    }\n",
              "\n",
              "    .dataframe tbody tr th {\n",
              "        vertical-align: top;\n",
              "    }\n",
              "\n",
              "    .dataframe thead th {\n",
              "        text-align: right;\n",
              "    }\n",
              "</style>\n",
              "<table border=\"1\" class=\"dataframe\">\n",
              "  <thead>\n",
              "    <tr style=\"text-align: right;\">\n",
              "      <th></th>\n",
              "      <th>Feature1</th>\n",
              "      <th>Feature2</th>\n",
              "      <th>Feature3</th>\n",
              "      <th>Feature4</th>\n",
              "    </tr>\n",
              "  </thead>\n",
              "  <tbody>\n",
              "    <tr>\n",
              "      <th>0</th>\n",
              "      <td>-1.310168</td>\n",
              "      <td>4.083988</td>\n",
              "      <td>8.821271</td>\n",
              "      <td>13.806908</td>\n",
              "    </tr>\n",
              "    <tr>\n",
              "      <th>1</th>\n",
              "      <td>-0.835933</td>\n",
              "      <td>8.889155</td>\n",
              "      <td>3.930402</td>\n",
              "      <td>5.829701</td>\n",
              "    </tr>\n",
              "    <tr>\n",
              "      <th>2</th>\n",
              "      <td>0.001279</td>\n",
              "      <td>9.217252</td>\n",
              "      <td>7.010031</td>\n",
              "      <td>5.185092</td>\n",
              "    </tr>\n",
              "    <tr>\n",
              "      <th>3</th>\n",
              "      <td>1.413789</td>\n",
              "      <td>4.427689</td>\n",
              "      <td>4.881688</td>\n",
              "      <td>13.408670</td>\n",
              "    </tr>\n",
              "    <tr>\n",
              "      <th>4</th>\n",
              "      <td>-0.953064</td>\n",
              "      <td>2.487238</td>\n",
              "      <td>4.596612</td>\n",
              "      <td>13.835109</td>\n",
              "    </tr>\n",
              "    <tr>\n",
              "      <th>5</th>\n",
              "      <td>-1.128864</td>\n",
              "      <td>6.576714</td>\n",
              "      <td>5.110623</td>\n",
              "      <td>6.032937</td>\n",
              "    </tr>\n",
              "    <tr>\n",
              "      <th>6</th>\n",
              "      <td>-0.599472</td>\n",
              "      <td>9.665843</td>\n",
              "      <td>1.854996</td>\n",
              "      <td>15.318238</td>\n",
              "    </tr>\n",
              "    <tr>\n",
              "      <th>7</th>\n",
              "      <td>0.337466</td>\n",
              "      <td>6.364465</td>\n",
              "      <td>NaN</td>\n",
              "      <td>11.437355</td>\n",
              "    </tr>\n",
              "    <tr>\n",
              "      <th>8</th>\n",
              "      <td>1.223708</td>\n",
              "      <td>9.702224</td>\n",
              "      <td>6.691466</td>\n",
              "      <td>13.306232</td>\n",
              "    </tr>\n",
              "    <tr>\n",
              "      <th>9</th>\n",
              "      <td>-0.086509</td>\n",
              "      <td>3.618080</td>\n",
              "      <td>6.535085</td>\n",
              "      <td>7.804391</td>\n",
              "    </tr>\n",
              "  </tbody>\n",
              "</table>\n",
              "</div>"
            ],
            "text/plain": [
              "   Feature1  Feature2  Feature3   Feature4\n",
              "0 -1.310168  4.083988  8.821271  13.806908\n",
              "1 -0.835933  8.889155  3.930402   5.829701\n",
              "2  0.001279  9.217252  7.010031   5.185092\n",
              "3  1.413789  4.427689  4.881688  13.408670\n",
              "4 -0.953064  2.487238  4.596612  13.835109\n",
              "5 -1.128864  6.576714  5.110623   6.032937\n",
              "6 -0.599472  9.665843  1.854996  15.318238\n",
              "7  0.337466  6.364465       NaN  11.437355\n",
              "8  1.223708  9.702224  6.691466  13.306232\n",
              "9 -0.086509  3.618080  6.535085   7.804391"
            ]
          },
          "execution_count": 3,
          "metadata": {},
          "output_type": "execute_result"
        }
      ],
      "source": [
        "data.head(10)"
      ]
    },
    {
      "cell_type": "markdown",
      "id": "4cc22b24",
      "metadata": {
        "id": "4cc22b24"
      },
      "source": [
        "- We can observe one missing value in 8th row of `Feature3`."
      ]
    },
    {
      "cell_type": "code",
      "execution_count": null,
      "id": "74f7a413",
      "metadata": {
        "id": "74f7a413",
        "outputId": "63e4537c-d13e-490d-da07-b9a358e19faa"
      },
      "outputs": [
        {
          "name": "stdout",
          "output_type": "stream",
          "text": [
            "<class 'pandas.core.frame.DataFrame'>\n",
            "RangeIndex: 1000 entries, 0 to 999\n",
            "Data columns (total 4 columns):\n",
            " #   Column    Non-Null Count  Dtype  \n",
            "---  ------    --------------  -----  \n",
            " 0   Feature1  1000 non-null   float64\n",
            " 1   Feature2  950 non-null    float64\n",
            " 2   Feature3  950 non-null    float64\n",
            " 3   Feature4  900 non-null    float64\n",
            "dtypes: float64(4)\n",
            "memory usage: 31.4 KB\n"
          ]
        }
      ],
      "source": [
        "data.info()"
      ]
    },
    {
      "cell_type": "markdown",
      "id": "2f3c60b5",
      "metadata": {
        "id": "2f3c60b5"
      },
      "source": [
        "### Plotting the data points on a graph"
      ]
    },
    {
      "cell_type": "code",
      "execution_count": null,
      "id": "916872ba",
      "metadata": {
        "id": "916872ba",
        "outputId": "c9b94b3a-91e0-440f-831c-fd72301dc501"
      },
      "outputs": [
        {
          "data": {
            "image/png": "[encoded data removed]",
            "text/plain": [
              "<Figure size 432x288 with 1 Axes>"
            ]
          },
          "metadata": {
            "needs_background": "light"
          },
          "output_type": "display_data"
        }
      ],
      "source": [
        "# Feature1 & Feature2\n",
        "\n",
        "plt.plot(data.iloc[0:200,1])\n",
        "plt.xlabel('Feature1')\n",
        "plt.ylabel('Feature2')\n",
        "plt.title('Data Trend')\n",
        "plt.show()"
      ]
    },
    {
      "cell_type": "markdown",
      "id": "f3781bb5",
      "metadata": {
        "id": "f3781bb5"
      },
      "source": [
        "- After looking at the graph we can say that there is no clear upward or downward trend, suggests that over the range of `Feature1` being considered, `Feature2` does not show a long-term increase or decrease.\n",
        "\n",
        "\n",
        "- From the above graph we can also see that there are missing values present in `Feature2` majorly in between the of range `100` to `150`."
      ]
    },
    {
      "cell_type": "markdown",
      "id": "30a6c673",
      "metadata": {
        "id": "30a6c673"
      },
      "source": [
        "###  Identifying missing values"
      ]
    },
    {
      "cell_type": "code",
      "execution_count": null,
      "id": "3b3d1c42",
      "metadata": {
        "id": "3b3d1c42",
        "outputId": "89aab71d-c934-414f-c623-746e75343017"
      },
      "outputs": [
        {
          "data": {
            "text/plain": [
              "Feature1      0\n",
              "Feature2     50\n",
              "Feature3     50\n",
              "Feature4    100\n",
              "dtype: int64"
            ]
          },
          "execution_count": 6,
          "metadata": {},
          "output_type": "execute_result"
        }
      ],
      "source": [
        "data.isnull().sum()"
      ]
    },
    {
      "cell_type": "markdown",
      "id": "ddbe9e79",
      "metadata": {
        "id": "ddbe9e79"
      },
      "source": [
        "### Handling the missing values"
      ]
    },
    {
      "cell_type": "code",
      "execution_count": null,
      "id": "2356a241",
      "metadata": {
        "id": "2356a241"
      },
      "outputs": [],
      "source": [
        "data_interpolated = data.interpolate()"
      ]
    },
    {
      "cell_type": "code",
      "execution_count": null,
      "id": "e813cad0",
      "metadata": {
        "id": "e813cad0",
        "outputId": "b6233921-f729-4ecf-9793-4931ea86c3f0"
      },
      "outputs": [
        {
          "data": {
            "image/png": "[encoded data removed]",
            "text/plain": [
              "<Figure size 432x288 with 1 Axes>"
            ]
          },
          "metadata": {
            "needs_background": "light"
          },
          "output_type": "display_data"
        }
      ],
      "source": [
        "# Feature1 and Feature2 graphs before applying cleaned data\n",
        "\n",
        "plt.plot(data.iloc[200:300,3])\n",
        "plt.xlabel('Feature1')\n",
        "plt.ylabel('Feature2')\n",
        "plt.title('Data Trend')\n",
        "plt.show()"
      ]
    },
    {
      "cell_type": "markdown",
      "id": "d1dd9570",
      "metadata": {
        "id": "d1dd9570"
      },
      "source": [
        "- In this graph we can see empty spaces in the trend displaying missing values.(**Before applying interpolated data**)"
      ]
    },
    {
      "cell_type": "code",
      "execution_count": null,
      "id": "7b7c287b",
      "metadata": {
        "id": "7b7c287b",
        "outputId": "e30b449d-21a2-4099-bdf8-2caba1bef19f"
      },
      "outputs": [
        {
          "data": {
            "image/png": "[encoded data removed]",
            "text/plain": [
              "<Figure size 432x288 with 1 Axes>"
            ]
          },
          "metadata": {
            "needs_background": "light"
          },
          "output_type": "display_data"
        }
      ],
      "source": [
        "# Feature1 and Feature2 graphs after applying cleaned data\n",
        "\n",
        "plt.plot(data_interpolated.iloc[200:300,3])\n",
        "plt.xlabel('Feature1')\n",
        "plt.ylabel('Feature2')\n",
        "plt.title('Data Trend')\n",
        "plt.show()"
      ]
    },
    {
      "cell_type": "markdown",
      "id": "8cfb9936",
      "metadata": {
        "id": "8cfb9936"
      },
      "source": [
        "- The same graph now shows a complete pattern with 0 missing values in the data. **(After applying interpolated data)**"
      ]
    },
    {
      "cell_type": "markdown",
      "id": "f8ba670c",
      "metadata": {
        "id": "f8ba670c"
      },
      "source": [
        "### Identifying Outliers"
      ]
    },
    {
      "cell_type": "code",
      "execution_count": null,
      "id": "890c8afe",
      "metadata": {
        "id": "890c8afe",
        "outputId": "84c931c2-35fd-4086-aff4-833301deb52e"
      },
      "outputs": [
        {
          "data": {
            "text/plain": [
              "Text(0.5, 0, 'Feature1')"
            ]
          },
          "execution_count": 10,
          "metadata": {},
          "output_type": "execute_result"
        },
        {
          "data": {
            "image/png": "[encoded data removed]",
            "text/plain": [
              "<Figure size 432x288 with 1 Axes>"
            ]
          },
          "metadata": {
            "needs_background": "light"
          },
          "output_type": "display_data"
        }
      ],
      "source": [
        "# For Feature1\n",
        "ax = data_interpolated['Feature1'].plot(kind = 'hist', bins=20, title= '', log = True)\n",
        "ax.set_xlabel('Feature1')"
      ]
    },
    {
      "cell_type": "markdown",
      "id": "3609043c",
      "metadata": {
        "id": "3609043c"
      },
      "source": [
        "The data points that fall beyond 3 standard deviations from the mean should be considered as outliers."
      ]
    },
    {
      "cell_type": "code",
      "execution_count": null,
      "id": "d8b94452",
      "metadata": {
        "id": "d8b94452",
        "outputId": "6503b2b0-92bb-44a8-c3f3-3379fe984d2a"
      },
      "outputs": [
        {
          "data": {
            "text/plain": [
              "Text(0.5, 0, 'Feature2')"
            ]
          },
          "execution_count": 11,
          "metadata": {},
          "output_type": "execute_result"
        },
        {
          "data": {
            "image/png": "[encoded data removed]",
            "text/plain": [
              "<Figure size 432x288 with 1 Axes>"
            ]
          },
          "metadata": {
            "needs_background": "light"
          },
          "output_type": "display_data"
        }
      ],
      "source": [
        "# for Feature2\n",
        "ax = data_interpolated ['Feature2'].plot(kind='hist', bins=20, title='', log=True)\n",
        "ax.set_xlabel('Feature2')"
      ]
    },
    {
      "cell_type": "markdown",
      "id": "e5a1fd9a",
      "metadata": {
        "id": "e5a1fd9a"
      },
      "source": [
        "In this graph there are separate bars beyond the value of `40` on the `Feature2` axis, which indicate infrequent occurrences of data points that are much higher than the rest of the dataset."
      ]
    },
    {
      "cell_type": "code",
      "execution_count": null,
      "id": "4ccc850b",
      "metadata": {
        "id": "4ccc850b",
        "outputId": "555242ef-8665-42eb-ab64-76d7267cd6a7"
      },
      "outputs": [
        {
          "data": {
            "text/plain": [
              "Text(0.5, 0, 'Feature3')"
            ]
          },
          "execution_count": 12,
          "metadata": {},
          "output_type": "execute_result"
        },
        {
          "data": {
            "image/png": "[encoded data removed]",
            "text/plain": [
              "<Figure size 432x288 with 1 Axes>"
            ]
          },
          "metadata": {
            "needs_background": "light"
          },
          "output_type": "display_data"
        }
      ],
      "source": [
        "# Feature3\n",
        "\n",
        "ax = data_interpolated['Feature3'].plot(kind = 'hist', bins=20, title= '', log = True)\n",
        "ax.set_xlabel('Feature3')"
      ]
    },
    {
      "cell_type": "markdown",
      "id": "9b023095",
      "metadata": {
        "id": "9b023095"
      },
      "source": [
        "In this graph of `Feature3` bars to the extreme ends are outliers. Representing values less than `-30` on the left and more than\n",
        "`15` to the right."
      ]
    },
    {
      "cell_type": "code",
      "execution_count": null,
      "id": "58a7444d",
      "metadata": {
        "id": "58a7444d",
        "outputId": "9a3213e2-2dfd-4b96-8b8a-65da50d0de81"
      },
      "outputs": [
        {
          "data": {
            "text/plain": [
              "Text(0.5, 0, 'Feature4')"
            ]
          },
          "execution_count": 13,
          "metadata": {},
          "output_type": "execute_result"
        },
        {
          "data": {
            "image/png": "[encoded data removed]",
            "text/plain": [
              "<Figure size 432x288 with 1 Axes>"
            ]
          },
          "metadata": {
            "needs_background": "light"
          },
          "output_type": "display_data"
        }
      ],
      "source": [
        "# for Feature4\n",
        "\n",
        "ax = data_interpolated ['Feature4'].plot(kind='hist', bins=20, title='', log=True)\n",
        "ax.set_xlabel('Feature4')"
      ]
    },
    {
      "cell_type": "markdown",
      "id": "b82d08af",
      "metadata": {
        "id": "b82d08af"
      },
      "source": [
        "It is observable that outliers in this graph are on the extremes of `Feature4` axis. Bars to extreme left below `-15` and bars to the extreme right more than `40` shows the presence of outliers."
      ]
    },
    {
      "cell_type": "markdown",
      "id": "b58a0907",
      "metadata": {
        "id": "b58a0907"
      },
      "source": [
        "### Correlation Analysis"
      ]
    },
    {
      "cell_type": "code",
      "execution_count": null,
      "id": "0221a908",
      "metadata": {
        "id": "0221a908",
        "outputId": "6b8e8d67-5d37-4c0c-8180-e4f2075f40a0"
      },
      "outputs": [
        {
          "data": {
            "text/html": [
              "<div>\n",
              "<style scoped>\n",
              "    .dataframe tbody tr th:only-of-type {\n",
              "        vertical-align: middle;\n",
              "    }\n",
              "\n",
              "    .dataframe tbody tr th {\n",
              "        vertical-align: top;\n",
              "    }\n",
              "\n",
              "    .dataframe thead th {\n",
              "        text-align: right;\n",
              "    }\n",
              "</style>\n",
              "<table border=\"1\" class=\"dataframe\">\n",
              "  <thead>\n",
              "    <tr style=\"text-align: right;\">\n",
              "      <th></th>\n",
              "      <th>Feature1</th>\n",
              "      <th>Feature2</th>\n",
              "      <th>Feature3</th>\n",
              "      <th>Feature4</th>\n",
              "    </tr>\n",
              "  </thead>\n",
              "  <tbody>\n",
              "    <tr>\n",
              "      <th>Feature1</th>\n",
              "      <td>1.000000</td>\n",
              "      <td>-0.013179</td>\n",
              "      <td>0.033310</td>\n",
              "      <td>-0.018880</td>\n",
              "    </tr>\n",
              "    <tr>\n",
              "      <th>Feature2</th>\n",
              "      <td>-0.013179</td>\n",
              "      <td>1.000000</td>\n",
              "      <td>-0.762603</td>\n",
              "      <td>0.662528</td>\n",
              "    </tr>\n",
              "    <tr>\n",
              "      <th>Feature3</th>\n",
              "      <td>0.033310</td>\n",
              "      <td>-0.762603</td>\n",
              "      <td>1.000000</td>\n",
              "      <td>-0.756384</td>\n",
              "    </tr>\n",
              "    <tr>\n",
              "      <th>Feature4</th>\n",
              "      <td>-0.018880</td>\n",
              "      <td>0.662528</td>\n",
              "      <td>-0.756384</td>\n",
              "      <td>1.000000</td>\n",
              "    </tr>\n",
              "  </tbody>\n",
              "</table>\n",
              "</div>"
            ],
            "text/plain": [
              "          Feature1  Feature2  Feature3  Feature4\n",
              "Feature1  1.000000 -0.013179  0.033310 -0.018880\n",
              "Feature2 -0.013179  1.000000 -0.762603  0.662528\n",
              "Feature3  0.033310 -0.762603  1.000000 -0.756384\n",
              "Feature4 -0.018880  0.662528 -0.756384  1.000000"
            ]
          },
          "execution_count": 14,
          "metadata": {},
          "output_type": "execute_result"
        }
      ],
      "source": [
        "# Performing correlation analysis on the cleaned dataset\n",
        "\n",
        "correlation = data_interpolated[['Feature1', 'Feature2', 'Feature3', 'Feature4']].corr()\n",
        "\n",
        "# Displaying the correlation between 'Feature1', 'Feature2', 'Feature3', 'Feature4'\n",
        "\n",
        "correlation"
      ]
    },
    {
      "cell_type": "markdown",
      "id": "6e25efcc",
      "metadata": {
        "id": "6e25efcc"
      },
      "source": [
        "from the above correlation coefficient table we can see following relations between all four features from the dataset:\n",
        "\n",
        "- `Feature1` and `Feature2` have a correlation of approximately -0.013, which suggests there's virtually no linear relationship    between them.\n",
        "- `Feature1` and `Feature3` show a very slight positive correlation of approximately 0.033, indicating a negligible linear          relationship.\n",
        "- `Feature1` and `Feature4` also display a negligible negative correlation of approximately -0.018.\n",
        "- `Feature2`and `Feature3` have a significant negative correlation of approximately -0.762, suggesting that as `Feature2`          increases, `Feature3` tends to decrease quite consistently.\n",
        "- `Feature2` and `Feature4` show a substantial positive correlation of approximately 0.662, meaning that they tend to increase      together.\n",
        "- `Feature3` and `Feature4` exhibit a strong negative correlation of approximately -0.756, indicating that as `Feature3`            increases, `Feature4` tends to decrease, and vice versa."
      ]
    },
    {
      "cell_type": "markdown",
      "id": "46a124ec",
      "metadata": {
        "id": "46a124ec"
      },
      "source": [
        "- Now we will export the cleaned data to the local device, as it's original format is of **.csv** file we have export the dataset in **.csv** format as well."
      ]
    },
    {
      "cell_type": "code",
      "execution_count": null,
      "id": "bc2e48e5",
      "metadata": {
        "id": "bc2e48e5"
      },
      "outputs": [],
      "source": [
        "data_interpolated.to_csv('C://Users//Admin//Documents//cleaned_dataset.csv', index=False) # To Export Cleaned Data into Excel file\n",
        "\n"
      ]
    }
  ],
  "metadata": {
    "kernelspec": {
      "display_name": "Python 3 (ipykernel)",
      "language": "python",
      "name": "python3"
    },
    "language_info": {
      "codemirror_mode": {
        "name": "ipython",
        "version": 3
      },
      "file_extension": ".py",
      "mimetype": "text/x-python",
      "name": "python",
      "nbconvert_exporter": "python",
      "pygments_lexer": "ipython3",
      "version": "3.9.12"
    },
    "colab": {
      "provenance": []
    }
  },
  "nbformat": 4,
  "nbformat_minor": 5
}